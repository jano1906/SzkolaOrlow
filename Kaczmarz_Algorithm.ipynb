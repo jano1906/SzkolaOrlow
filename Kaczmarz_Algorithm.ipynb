{
 "cells": [
  {
   "cell_type": "code",
   "execution_count": 23,
   "metadata": {},
   "outputs": [],
   "source": [
    "import numpy as np\n",
    "from numpy import linalg as LA"
   ]
  },
  {
   "cell_type": "code",
   "execution_count": 77,
   "metadata": {},
   "outputs": [],
   "source": [
    "# returns equivalent system of equations (A,b) but each row a of A satisfies |a|=1\n",
    "def normalize(A, b):\n",
    "    assert(A.shape[0] == b.shape[0])\n",
    "    nA = list()\n",
    "    nb = list()\n",
    "    for i in range(A.shape[0]):\n",
    "        norm = LA.norm(A[i]) == 0\n",
    "        if norm == 0:\n",
    "            norm = 1\n",
    "        nA.append(A[i]/norm)\n",
    "        nb.append(b[i]/norm)\n",
    "    return (np.array(nA), np.array(nb))\n",
    "# hyperplane we project on is given by the equation <a,x>+b = 0\n",
    "def ortHypProj(x, a, b):\n",
    "    return x - (np.dot(a,x)+b)*a\n",
    "# system of equation is given by Ax+b = 0\n",
    "def kaczmarz(A, b, epochs = 100):\n",
    "    assert(A.shape[0] == A.shape[1])\n",
    "    A,b = normalize(A,b)\n",
    "    n = A.shape[0]\n",
    "    x = np.zeros(n);\n",
    "    for ep in range(epochs):\n",
    "        for i in range(n):\n",
    "            x = ortHypProj(x, A[i,:],b[i])\n",
    "    return x"
   ]
  },
  {
   "cell_type": "code",
   "execution_count": 80,
   "metadata": {},
   "outputs": [],
   "source": [
    "A = np.array([\n",
    "    [0,0,0],\n",
    "    [0,0,0],\n",
    "    [0,0,1]])\n",
    "b = np.array([0,0,1])\n",
    "x = kaczmarz(A,b)"
   ]
  },
  {
   "cell_type": "code",
   "execution_count": 81,
   "metadata": {},
   "outputs": [
    {
     "data": {
      "text/plain": [
       "array([ 0.,  0., -1.])"
      ]
     },
     "execution_count": 81,
     "metadata": {},
     "output_type": "execute_result"
    }
   ],
   "source": [
    "x"
   ]
  }
 ],
 "metadata": {
  "kernelspec": {
   "display_name": "Python 3",
   "language": "python",
   "name": "python3"
  },
  "language_info": {
   "codemirror_mode": {
    "name": "ipython",
    "version": 3
   },
   "file_extension": ".py",
   "mimetype": "text/x-python",
   "name": "python",
   "nbconvert_exporter": "python",
   "pygments_lexer": "ipython3",
   "version": "3.8.3"
  }
 },
 "nbformat": 4,
 "nbformat_minor": 4
}
